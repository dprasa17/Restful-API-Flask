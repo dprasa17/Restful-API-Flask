{
  "cells": [
    {
      "cell_type": "markdown",
      "metadata": {
        "id": "ZiwWiYodOBqJ"
      },
      "source": []
    },
    {
      "cell_type": "markdown",
      "metadata": {
        "id": "aq4O_iF3OOEs"
      },
      "source": [
        "# Assignment - Restful API & Flask"
      ]
    },
    {
      "cell_type": "code",
      "execution_count": null,
      "metadata": {
        "id": "tyhczr6iNu70"
      },
      "outputs": [],
      "source": []
    },
    {
      "cell_type": "markdown",
      "metadata": {
        "id": "kLj5naZ9Oeax"
      },
      "source": [
        "Question-1. What is a RESTful API ?\n",
        "\n",
        "Answer-1. A RESTful API (Representational State of Resource) is an architectural style for designing networked applications. It's based on the idea of resources, which are identified by URIs, and can be manipulated using a fixed set of operations.\n",
        "\n",
        "Key Characteristics:\n",
        "\n",
        "1. Resource-based: Everything in REST is a resource (e.g., users, products, orders).\n",
        "2. Client-server architecture: The client and server are separate, with the client making requests to the server.\n",
        "3. Stateless: The server doesn't store any information about the client between requests.\n",
        "4. Cacheable: Responses can be cached to reduce the number of requests.\n",
        "5. Uniform interface: A standard interface is used for all interactions (e.g., HTTP methods like GET, POST, PUT, DELETE).\n",
        "\n",
        "HTTP Methods:\n",
        "\n",
        "1. GET: Retrieve a resource.\n",
        "2. POST: Create a new resource.\n",
        "3. PUT: Update an existing resource.\n",
        "4. DELETE: Delete a resource."
      ]
    },
    {
      "cell_type": "markdown",
      "metadata": {
        "id": "Pi69FhL0O4lY"
      },
      "source": [
        "Question-2. Explain the concept of API specification ?\n",
        "\n",
        "Answer-2. An API specification is a detailed description of an API's structure, functionality, and behavior. It serves as a contract between the API provider and the API consumer, outlining what the API can do, how it works, and how to interact with it.\n",
        "\n",
        "Key Components:\n",
        "\n",
        "1. Endpoints: A list of API endpoints, including their URLs, HTTP methods, and parameters.\n",
        "2. Request and Response Formats: The format of the data sent in requests and responses, such as JSON or XML.\n",
        "3. Data Models: A description of the data structures used in the API, including the relationships between them.\n",
        "4. Error Handling: A description of how errors are handled and what error messages are returned.\n",
        "5. Security: Information about authentication, authorization, and other security measures.\n"
      ]
    },
    {
      "cell_type": "markdown",
      "metadata": {
        "id": "faL1fqyoPJuM"
      },
      "source": [
        "Question-3. What is Flask, and why is it popular for building APIs ?\n",
        "\n",
        "Answer-3. Flask is a micro web framework for Python that allows developers to build web applications and APIs quickly and easily. It's known for its lightweight, flexible, and modular design, making it a popular choice for building APIs.\n",
        "\n",
        "Key Features:\n",
        "\n",
        "1. Micro Framework: Flask is a micro framework, meaning it's lightweight and doesn't require a lot of overhead.\n",
        "2. Modular Design: Flask has a modular design, making it easy to extend and customize.\n",
        "3. Flexible: Flask supports a wide range of databases, caching, and authentication systems.\n",
        "4. Extensive Libraries: Flask has a large collection of libraries and extensions that make it easy to add functionality.\n",
        "\n",
        "Why Flask is Popular for Building APIs:\n",
        "\n",
        "1. Easy to Learn: Flask has a simple and intuitive API, making it easy for developers to learn and use.\n",
        "2. Fast Development: Flask's lightweight design and extensive libraries make it ideal for rapid prototyping and development.\n",
        "3. Flexible and Customizable: Flask's modular design and extensive libraries make it easy to customize and extend.\n",
        "4. Large Community: Flask has a large and active community, providing a wealth of resources and support."
      ]
    },
    {
      "cell_type": "markdown",
      "metadata": {
        "id": "iHq6G_49PYt0"
      },
      "source": [
        "Question-4. What is routing in Flask ?\n",
        "\n",
        "Answer-4. Routing in Flask is the process of mapping URLs to specific application endpoints. It allows you to define how your application responds to different URLs and HTTP methods.\n",
        "\n",
        "Basic Routing:\n",
        "\n",
        "In Flask, routing is achieved using the @app.route() decorator. Here's an example:\n",
        "\n",
        "from flask import Flask\n",
        "\n",
        "app = Flask(__name__)\n",
        "\n",
        "@app.route('/')\n",
        "\n",
        "def home():\n",
        "\n",
        "    return 'Welcome to the home page!'\n",
        "\n",
        "if __name__ == '__main__':\n",
        "   \n",
        "    app.run(debug=True)\n",
        "\n",
        "In this example, the / URL is mapped to the home() function, which returns a simple message."
      ]
    },
    {
      "cell_type": "markdown",
      "metadata": {
        "id": "3Ze6AYSXP0fK"
      },
      "source": [
        "Question-5.How do you create a simple Flask application ?\n",
        "\n",
        "Answer-5. Creating a Simple Flask Application\n",
        "\n",
        "Here's a step-by-step guide to creating a simple Flask application:\n",
        "\n",
        "Step 1: Install Flask\n",
        "\n",
        "First, you need to install Flask. You can do this using pip:\n",
        "\n",
        "bash\n",
        "\n",
        "pip install flask\n",
        "\n",
        "Step 2: Create a New File\n",
        "\n",
        "Create a new file called app.py (or any other name you prefer).\n",
        "\n",
        "Step 3: Import Flask and Create an Instance\n",
        "In app.py, import Flask and create an instance of the Flask class:\n",
        "\n",
        "from flask import Flask\n",
        "\n",
        "app = Flask(__name__)\n",
        "\n",
        "Step 4: Define a Route\n",
        "\n",
        "Define a route for the root URL (/) using the @app.route() decorator:\n",
        "\n",
        "@app.route('/')\n",
        "\n",
        "def home():\n",
        "\n",
        "    return 'Welcome to my Flask app!'\n",
        "\n",
        "Step 5: Run the Application\n",
        "\n",
        "Finally, run the application using the app.run() method:\n",
        "\n",
        "if __name__ == '__main__':\n",
        "\n",
        "    app.run(debug=True)\n",
        "\n",
        "The debug=True parameter enables debug mode, which provides helpful error messages and automatic reloading of the application.\n",
        "\n",
        "Full Code\n",
        "\n",
        "Here's the full code:\n",
        "\n",
        "from flask import Flask\n",
        "\n",
        "app = Flask(__name__)\n",
        "\n",
        "@app.route('/')\n",
        "\n",
        "def home():\n",
        "\n",
        "    return 'Welcome to my Flask app!'\n",
        "\n",
        "if __name__ == '__main__':\n",
        "\n",
        "    app.run(debug=True)\n",
        "\n",
        "Running the Application\n",
        "\n",
        "To run the application, save the file and execute it using Python:\n",
        "\n",
        "bash\n",
        "\n",
        "python app.py\n",
        "\n",
        "Open a web browser and navigate to http://localhost:5000/ to see the application in action.\n",
        "\n",
        "That's it! You've created a simple Flask application.\n"
      ]
    },
    {
      "cell_type": "markdown",
      "metadata": {
        "id": "hh0fhV9fQYlC"
      },
      "source": [
        "Question-6. What are HTTP methods used in RESTful APIs ?\n",
        "\n",
        "Answer-6. HTTP methods are used in RESTful APIs to perform different operations on resources. Here are the most commonly used HTTP methods:\n",
        "\n",
        "1. GET: Retrieve a resource from the server.\n",
        "    - Used to fetch data from the server.\n",
        "    - Should not modify the resource.\n",
        "2. POST: Create a new resource on the server.\n",
        "    - Used to send data to the server to create a new resource.\n",
        "    - Can also be used to update a resource.\n",
        "3. PUT: Update an existing resource on the server.\n",
        "    - Used to replace an existing resource with a new version.\n",
        "    - Should be idempotent, meaning that multiple identical requests should have the same effect as a single request.\n",
        "4. DELETE: Delete a resource from the server.\n",
        "    - Used to remove a resource from the server.\n",
        "    - Should be idempotent, meaning that multiple identical requests should have the same effect as a single request.\n",
        "\n",
        "Other HTTP Methods:\n",
        "\n",
        "1. PATCH: Partially update an existing resource on the server.\n",
        "    - Used to apply partial modifications to a resource.\n",
        "2. HEAD: Retrieve metadata about a resource without fetching the resource itself.\n",
        "    - Used to retrieve information about a resource, such as its existence or last modified date.\n",
        "3. OPTIONS: Return the HTTP methods supported by the server for a particular resource.\n",
        "    - Used to determine the allowed HTTP methods for a resource.\n",
        "\n",
        "Best Practices:\n",
        "\n",
        "1. Use HTTP methods correctly: Use each HTTP method for its intended purpose.\n",
        "2. Use meaningful error messages: Return meaningful error messages to help clients understand what went wrong.\n",
        "3. Follow HTTP status codes: Use standard HTTP status codes to indicate the outcome of a request."
      ]
    },
    {
      "cell_type": "markdown",
      "metadata": {
        "id": "ODNTaSwLQyyP"
      },
      "source": [
        "Question-7. What is the purpose of the @app.route() decorator in Flask ?\n",
        "\n",
        "Answer-7.The @app.route() decorator in Flask is used to associate a function with a particular URL. It allows you to define routes for your application, mapping URLs to specific functions that handle requests and return responses.\n",
        "\n",
        "Key Features:\n",
        "\n",
        "1. URL Mapping: The @app.route() decorator maps a URL to a specific function, allowing you to handle requests to that URL.\n",
        "2. Request Handling: The function associated with the route handles requests to the specified URL, allowing you to process data, interact with databases, and return responses.\n",
        "3. Flexibility: The @app.route() decorator provides flexibility in defining routes, allowing you to specify HTTP methods, URL parameters, and more.\n",
        "\n",
        "Benefits:\n",
        "\n",
        "1. Clean URLs: The @app.route() decorator allows you to define clean and readable URLs that are easy to understand and remember.\n",
        "2. Organized Code: By mapping URLs to specific functions, the @app.route() decorator helps keep your code organized and maintainable.\n",
        "3. Flexible Routing: The @app.route() decorator provides flexibility in defining routes, allowing you to handle different HTTP methods, URL parameters, and more.\n"
      ]
    },
    {
      "cell_type": "markdown",
      "metadata": {
        "id": "sQ2qg4AKRTgP"
      },
      "source": [
        "Question-8. What is the difference between GET and POST HTTP methods ?\n",
        "\n",
        "Answer-8. The main difference between GET and POST HTTP methods is their purpose and how they handle data.\n",
        "\n",
        "GET:\n",
        "\n",
        "1. Retrieve data: GET is used to retrieve data from the server.\n",
        "2. Data in URL: Data is sent in the URL as query parameters.\n",
        "3. Cached: GET requests can be cached by the browser.\n",
        "4. Idempotent: GET requests are idempotent, meaning that multiple identical requests should have the same effect as a single request.\n",
        "5. Limited data: GET requests have a limited amount of data that can be sent.\n",
        "\n",
        "POST:\n",
        "\n",
        "1. Send data: POST is used to send data to the server to create or update a resource.\n",
        "2. Data in body: Data is sent in the request body.\n",
        "3. Not cached: POST requests are not cached by the browser.\n",
        "4. Not idempotent: POST requests are not idempotent, meaning that multiple identical requests can have different effects.\n",
        "5. More data: POST requests can handle larger amounts of data than GET requests.\n"
      ]
    },
    {
      "cell_type": "markdown",
      "metadata": {
        "id": "vrmggR4nRmEc"
      },
      "source": [
        "Question-9. How do you handle errors in Flask APIs ?\n",
        "\n",
        "Answer-9. Error handling is an essential part of building robust and reliable Flask APIs. Here are some ways to handle errors in Flask APIs:\n",
        "\n",
        "1. Try-Except Blocks\n",
        "Use try-except blocks to catch and handle exceptions in your API endpoints:\n",
        "\n",
        "from flask import Flask, jsonify\n",
        "\n",
        "app = Flask(__name__)\n",
        "\n",
        "@app.route('/api/data', methods=['GET'])\n",
        "\n",
        "def get_data():\n",
        "\n",
        "    try:\n",
        "        # Code to retrieve data\n",
        "        data = retrieve_data()\n",
        "        return jsonify(data)\n",
        "    except Exception as e:\n",
        "        return jsonify({'error': str(e)}), 500\n",
        "\n",
        "2. Error Handlers\n",
        "\n",
        "Use error handlers to handle specific types of errors, such as 404 Not Found or 500 Internal Server Error:\n",
        "\n",
        "@app.errorhandler(404)\n",
        "\n",
        "def not_found(error):\n",
        "\n",
        "    return jsonify({'error': 'Not found'}), 404\n",
        "\n",
        "@app.errorhandler(500)\n",
        "\n",
        "def internal_server_error(error):\n",
        "\n",
        "    return jsonify({'error': 'Internal server error'}), 500\n",
        "\n",
        "3. Custom Error Messages\n",
        "\n",
        "Use custom error messages to provide more informative error responses:\n",
        "\n",
        "@app.route('/api/data', methods=['GET'])\n",
        "\n",
        "def get_data():\n",
        "\n",
        "    try:\n",
        "        # Code to retrieve data\n",
        "        data = retrieve_data()\n",
        "        return jsonify(data)\n",
        "    except ValueError as e:\n",
        "        return jsonify({'error': 'Invalid data'}), 400\n",
        "\n",
        "4. Logging\n",
        "\n",
        "Use logging to track errors and diagnose issues:\n",
        "\n",
        "import logging\n",
        "\n",
        "logging.basicConfig(level=logging.ERROR)\n",
        "\n",
        "@app.route('/api/data', methods=['GET'])\n",
        "\n",
        "def get_data():\n",
        "\n",
        "    try:\n",
        "        # Code to retrieve data\n",
        "        data = retrieve_data()\n",
        "        return jsonify(data)\n",
        "    except Exception as e:\n",
        "        logging.error(str(e))\n",
        "        return jsonify({'error': str(e)}), 500\n",
        "\n",
        "By handling errors properly, you can create a more robust and reliable Flask API that provides a better user experience."
      ]
    },
    {
      "cell_type": "markdown",
      "metadata": {
        "id": "mWEr4fvYSDFo"
      },
      "source": [
        "Question-10. How do you connect Flask to a SQL database ?\n",
        "\n",
        "Answer-10. To connect Flask to a SQL database, you can use an ORM (Object-Relational Mapping) tool like Flask-SQLAlchemy. Here's a step-by-step guide:\n",
        "\n",
        "Step 1: Install Flask-SQLAlchemy\n",
        "\n",
        "First, install Flask-SQLAlchemy using pip:\n",
        "\n",
        "bash\n",
        "\n",
        "pip install flask-sqlalchemy\n",
        "\n",
        "Step 2: Configure Flask-SQLAlchemy\n",
        "\n",
        "In your Flask application, import Flask-SQLAlchemy and configure it to connect to your database:\n",
        "\n",
        "from flask import Flask\n",
        "\n",
        "from flask_sqlalchemy import SQLAlchemy\n",
        "\n",
        "app = Flask(__name__)\n",
        "\n",
        "app.config['SQLALCHEMY_DATABASE_URI'] = 'sqlite:///example.db'  # Replace with your database URI\n",
        "\n",
        "db = SQLAlchemy(app)\n",
        "\n",
        "Step 3: Define Models\n",
        "\n",
        "Define models that represent your database tables:\n",
        "\n",
        "class User(db.Model):\n",
        "\n",
        "    id = db.Column(db.Integer, primary_key=True)\n",
        "    name = db.Column(db.String(100), nullable=False)\n",
        "    email = db.Column(db.String(100), nullable=False, unique=True)\n",
        "\n",
        "    def __repr__(self):\n",
        "        return f\"User('{self.name}', '{self.email}')\"\n",
        "\n",
        "Step 4: Create Tables\n",
        "\n",
        "Create the tables in your database:\n",
        "\n",
        "with app.app_context():\n",
        "\n",
        "    db.create_all()\n",
        "\n",
        "Step 5: Perform CRUD Operations\n",
        "Perform CRUD (Create, Read, Update, Delete) operations using your models:\n",
        "\n",
        "# Create a new user\n",
        "\n",
        "new_user = User(name='John Doe', email='john@example.com')\n",
        "\n",
        "db.session.add(new_user)\n",
        "\n",
        "db.session.commit()\n",
        "\n",
        "# Read all users\n",
        "\n",
        "users = User.query.all()\n",
        "\n",
        "# Update a user\n",
        "\n",
        "user = User.query.get(1)\n",
        "\n",
        "user.name = 'Jane Doe'\n",
        "\n",
        "db.session.commit()\n",
        "\n",
        "# Delete a user\n",
        "\n",
        "user = User.query.get(1)\n",
        "\n",
        "db.session.delete(user)\n",
        "\n",
        "db.session.commit()\n",
        "\n",
        "By following these steps, you can connect your Flask application to a SQL database using Flask-SQLAlchemy."
      ]
    },
    {
      "cell_type": "markdown",
      "metadata": {
        "id": "OTIZuYIeSouI"
      },
      "source": [
        "Question-11. What is the role of Flask-SQLAlchemy ?\n",
        "\n",
        "Answer-11. Flask-SQLAlchemy is an extension for Flask that provides a simple and intuitive interface to interact with databases using SQLAlchemy. It allows you to define database models, perform CRUD (Create, Read, Update, Delete) operations, and manage database connections.\n",
        "\n",
        "Key Features:\n",
        "\n",
        "1. Database Abstraction: Flask-SQLAlchemy provides a high-level interface to interact with various databases, including MySQL, PostgreSQL, and SQLite.\n",
        "2. ORM (Object-Relational Mapping): It uses SQLAlchemy's ORM to map database tables to Python objects, making it easier to work with databases.\n",
        "3. Model Definition: You can define database models using Python classes, which are then mapped to database tables.\n",
        "4. Querying: Flask-SQLAlchemy provides a powerful querying system that allows you to retrieve data from the database using Pythonic syntax"
      ]
    },
    {
      "cell_type": "markdown",
      "metadata": {
        "id": "4IGocSc-S33B"
      },
      "source": [
        "Question-12. What are Flask blueprints, and how are they useful ?\n",
        "\n",
        "Answer-12. Flask blueprints are a way to organize and structure Flask applications into smaller, reusable components. They provide a means to group related routes, templates, and other application functionality into a single unit.\n",
        "\n",
        "Benefits of Flask Blueprints:\n",
        "\n",
        "1. Modularity: Blueprints allow you to break down your application into smaller, more manageable pieces.\n",
        "2. Reusability: Blueprints can be reused across multiple applications, reducing code duplication.\n",
        "3. Flexibility: Blueprints can be easily registered and unregistered from an application, making it easy to modify the application's structure.\n",
        "\n",
        "Use Cases for Flask Blueprints:\n",
        "\n",
        "1. Large Applications: Blueprints are particularly useful for large applications with multiple features and routes.\n",
        "2. Reusable Components: Blueprints can be used to create reusable components, such as authentication or API modules.\n",
        "3. Team Development: Blueprints can help teams work on different parts of an application independently.\n",
        "  "
      ]
    },
    {
      "cell_type": "markdown",
      "metadata": {
        "id": "XYL9iSnxTHs9"
      },
      "source": [
        "Question-13. What is the purpose of Flask's request object ?\n",
        "\n",
        "Answer-13. The request object in Flask is an instance of the Request class, which represents the HTTP request sent by the client to the server. It provides access to various attributes and methods that can be used to handle the request.\n",
        "\n",
        "Key Attributes:\n",
        "\n",
        "1. method: The HTTP method used in the request (e.g., GET, POST, PUT, DELETE).\n",
        "2. url: The URL of the request.\n",
        "3. args: A dictionary-like object containing the query string arguments.\n",
        "4. form: A dictionary-like object containing the form data.\n",
        "5. json: A dictionary-like object containing the JSON data.\n",
        "6. headers: A dictionary-like object containing the HTTP headers.\n",
        "7. cookies: A dictionary-like object containing the cookies."
      ]
    },
    {
      "cell_type": "markdown",
      "metadata": {
        "id": "tjQulmWFTThO"
      },
      "source": [
        "Question-14. How do you create a RESTful API endpoint using Flask ?\n",
        "\n",
        "Answer-14. Here's a step-by-step guide to creating a RESTful API endpoint using Flask:\n",
        "\n",
        "Step 1: Define the API Endpoint\n",
        "\n",
        "Determine the purpose of the API endpoint and define the URL, HTTP method, and expected input/output.\n",
        "\n",
        "Step 2: Create a Flask Route\n",
        "\n",
        "Create a Flask route for the API endpoint using the @app.route() decorator:\n",
        "\n",
        "from flask import Flask, jsonify, request\n",
        "\n",
        "app = Flask(__name__)\n",
        "\n",
        "@app.route('/api/users', methods=['GET'])\n",
        "\n",
        "def get_users():\n",
        "\n",
        "    # Code to retrieve users\n",
        "    users = [\n",
        "        {'id': 1, 'name': 'John Doe'},\n",
        "        {'id': 2, 'name': 'Jane Doe'}\n",
        "    ]\n",
        "    return jsonify(users)\n",
        "\n",
        "Step 3: Handle HTTP Methods\n",
        "\n",
        "Handle different HTTP methods (e.g., GET, POST, PUT, DELETE) for the API endpoint:\n",
        "\n",
        "@app.route('/api/users', methods=['GET', 'POST']\n",
        ")\n",
        "def handle_users():\n",
        "\n",
        "    if request.method == 'GET':\n",
        "\n",
        "        # Code to retrieve users\n",
        "        users = [\n",
        "            {'id': 1, 'name': 'John Doe'},\n",
        "            {'id': 2, 'name': 'Jane Doe'}\n",
        "        ]\n",
        "        return jsonify(users)\n",
        "    elif request.method == 'POST':\n",
        "        # Code to create a new user\n",
        "        new_user = {\n",
        "            'id': 3,\n",
        "            'name': request.json['name']\n",
        "        }\n",
        "        return jsonify(new_user), 201\n",
        "\n",
        "Step 4: Handle Request Data\n",
        "\n",
        "Handle request data, such as JSON payloads or query parameters:\n",
        "\n",
        "@app.route('/api/users', methods=['POST'])\n",
        "\n",
        "def create_user():\n",
        "\n",
        "    new_user = {\n",
        "        'id': 3,\n",
        "        'name': request.json['name']\n",
        "    }\n",
        "    return jsonify(new_user), 201\n",
        "\n",
        "Step 5: Return Responses\n",
        "\n",
        "Return responses in a standard format, such as JSON:\n",
        "\n",
        "return jsonify({'message': 'User created successfully'}), 201\n",
        "\n",
        "Example API Endpoint\n",
        "\n",
        "Here's an example API endpoint that handles GET and POST requests:\n",
        "\n",
        "from flask import Flask, jsonify, request\n",
        "\n",
        "app = Flask(__name__)\n",
        "\n",
        "users = [\n",
        "\n",
        "    {'id': 1, 'name': 'John Doe'},\n",
        "    {'id': 2, 'name': 'Jane Doe'}\n",
        "]\n",
        "\n",
        "@app.route('/api/users', methods=['GET', 'POST'])\n",
        "def handle_users():\n",
        "\n",
        "    if request.method == 'GET':\n",
        "        return jsonify(users)\n",
        "    elif request.method == 'POST':\n",
        "        new_user = {\n",
        "            'id': len(users) + 1,\n",
        "            'name': request.json['name']\n",
        "        }\n",
        "        users.append(new_user)\n",
        "        return jsonify(new_user), 201\n",
        "\n",
        "if __name__ == '__main__':\n",
        "\n",
        "    app.run(debug=True)\n",
        "\n",
        "This API endpoint returns a list of users when a GET request is made and creates a new user when a POST request is made.\n"
      ]
    },
    {
      "cell_type": "markdown",
      "metadata": {
        "id": "WN-7bvCuT9B_"
      },
      "source": [
        "Question-15. What is the purpose of Flask's jsonify() function ?\n",
        "\n",
        "Answer-15. Purpose of Flask's jsonify() Function\n",
        "\n",
        "The jsonify() function in Flask is used to generate a JSON response from a Python object. It takes a Python object, such as a dictionary or a list, and converts it into a JSON response that can be sent back to the client.\n",
        "\n",
        "Key Features:\n",
        "\n",
        "1. JSON Encoding: jsonify() encodes the Python object into a JSON string.\n",
        "2. Content-Type Header: jsonify() sets the Content-Type header of the response to application/json, indicating that the response body contains JSON data.\n",
        "3. HTTP Status Code: jsonify() allows you to specify an HTTP status code for the response."
      ]
    },
    {
      "cell_type": "markdown",
      "metadata": {
        "id": "F2qgjOgZUP51"
      },
      "source": [
        "Question-16. Explain Flask’s url_for() function ?\n",
        "\n",
        "Answer-16. Flask's url_for() Function\n",
        "\n",
        "The url_for() function in Flask is used to generate URLs for routes in an application. It takes the endpoint name and any keyword arguments that are required for the route, and returns a URL that can be used to access the route.\n",
        "\n",
        "Benefits:\n",
        "\n",
        "1. Dynamic URL Generation: url_for() generates URLs dynamically based on the route definitions, making it easier to manage URLs in an application.\n",
        "2. Flexibility: url_for() allows you to generate URLs for routes with variable parts, such as IDs or slugs.\n",
        "3. Reusability: url_for() makes it easy to reuse route URLs throughout an application, reducing the risk of URL inconsistencies."
      ]
    },
    {
      "cell_type": "markdown",
      "metadata": {
        "id": "nexPnf0VUbMc"
      },
      "source": [
        "Question-17. How does Flask handle static files (CSS, JavaScript, etc.) ?\n",
        "\n",
        "Answer-17. Flask provides built-in support for serving static files, such as CSS, JavaScript, and images. By default, Flask looks for static files in a directory named static in the root path of your application.\n",
        "\n",
        "Serving Static Files:\n",
        "\n",
        "To serve static files, you can use the url_for() function in your templates to generate URLs for the static files. For example:\n",
        "\n",
        "\n",
        "<link rel=\"stylesheet\" href=\"{{ url_for('static', filename='style.css') }}\">\n",
        "\n",
        "This code generates a URL for the style.css file in the static directory.\n",
        "\n",
        "Static Folder Configuration:\n",
        "\n",
        "You can configure the static folder by passing the static_folder parameter to the Flask application constructor:\n",
        "\n",
        "app = Flask(__name__, static_folder='my_static_folder')\n",
        "\n",
        "This code tells Flask to look for static files in the my_static_folder directory instead of the default static directory.\n",
        "\n",
        "Static URL Prefix:\n",
        "\n",
        "You can also configure the URL prefix for static files by passing the static_url_path parameter to the Flask application constructor:\n",
        "\n",
        "app = Flask(__name__, static_url_path='/my_static')\n",
        "\n",
        "This code tells Flask to serve static files from the /my_static URL prefix instead of the default /static URL prefix."
      ]
    },
    {
      "cell_type": "markdown",
      "metadata": {
        "id": "AdDE3FvhUvpN"
      },
      "source": [
        "Question-18. What is an API specification, and how does it help in building a Flask API ?\n",
        "\n",
        "Answer-18. API Specification\n",
        "\n",
        "An API specification is a detailed description of an API's structure, functionality, and behavior. It outlines the API's endpoints, methods, parameters, and response formats, providing a clear understanding of how to interact with the API.\n",
        "\n",
        "How API Specification Helps in Building a Flask API:\n",
        "\n",
        "1. Design: API specifications help design the API's structure and functionality, ensuring that it meets the requirements and needs of the users.\n",
        "2. Implementation: API specifications guide the implementation of the API, ensuring that it is consistent with the design and meets the requirements.\n",
        "3. Testing: API specifications provide a basis for testing the API, ensuring that it behaves as expected and meets the requirements.\n",
        "4. Maintenance: API specifications help maintain the API over time, ensuring that changes and updates are consistent with the original design and functionality.\n",
        "\n",
        "Tools for API Specification:\n",
        "\n",
        "1. OpenAPI (Swagger): A popular tool for creating API specifications, OpenAPI provides a standardized format for describing APIs.\n",
        "2. API Blueprint: Another tool for creating API specifications, API Blueprint provides a simple and readable format for describing APIs.\n"
      ]
    },
    {
      "cell_type": "markdown",
      "metadata": {
        "id": "iaf3eTy7VBli"
      },
      "source": [
        "Question-19. What are HTTP status codes, and why are they important in a Flask API ?\n",
        "\n",
        "Answer-19. HTTP status codes are three-digit numbers that are returned by a server in response to a client's request. They indicate the outcome of the request and provide information about the server's response.\n",
        "\n",
        "Types of HTTP Status Codes:\n",
        "\n",
        "1. 1xx (Informational): These status codes indicate that the request was received and is being processed.\n",
        "2. 2xx (Success): These status codes indicate that the request was successful and the response body contains the requested data.\n",
        "3. 3xx (Redirection): These status codes indicate that the client needs to take additional action to complete the request.\n",
        "4. 4xx (Client Error): These status codes indicate that there was an error in the client's request.\n",
        "5. 5xx (Server Error): These status codes indicate that there was an error on the server-side.\n",
        "\n",
        "Common HTTP Status Codes:\n",
        "\n",
        "1. 200 OK: The request was successful, and the response body contains the requested data.\n",
        "2. 201 Created: The request was successful, and a new resource was created.\n",
        "3. 400 Bad Request: The request was invalid or cannot be processed.\n",
        "4. 401 Unauthorized: The client is not authenticated or does not have permission to access the requested resource.\n",
        "5. 404 Not Found: The requested resource was not found.\n",
        "6. 500 Internal Server Error: There was an error on the server-side.\n",
        "\n",
        "Importance of HTTP Status Codes in a Flask API:\n",
        "\n",
        "1. Clear Communication: HTTP status codes provide clear communication between the client and server about the outcome of the request.\n",
        "2. Error Handling: HTTP status codes help handle errors and exceptions in a standardized way.\n",
        "3. API Documentation: HTTP status codes are an essential part of API documentation, providing information about the expected responses and error handling.\n"
      ]
    },
    {
      "cell_type": "markdown",
      "metadata": {
        "id": "Zu4yDftJVP_z"
      },
      "source": [
        "Question-20. How do you handle POST requests in Flask ?\n",
        "\n",
        "Answer-20. o handle POST requests in Flask, you can use the @app.route() decorator with the methods parameter set to ['POST']. You can then access the request data using the request object.\n",
        "\n",
        "Accessing Request Data:\n",
        "\n",
        "You can access the request data using the following methods:\n",
        "\n",
        "- request.get_json(): Retrieves the JSON data from the request body.\n",
        "- request.form: Retrieves the form data from the request body.\n",
        "- request.args: Retrieves the query string arguments.\n",
        "\n",
        "Returning Responses:\n",
        "\n",
        "You can return responses using the following methods:\n",
        "\n",
        "- jsonify(): Returns a JSON response with a specified status code.\n",
        "- Response(): Returns a response object with a specified status code and content type.\n",
        "\n",
        "Best Practices:\n",
        "\n",
        "1. Validate Request Data: Validate the request data to ensure it is valid and consistent.\n",
        "2. Handle Errors: Handle errors and exceptions properly to provide a good user experience.\n",
        "3. Use JSON: Use JSON to send and receive data in the request and response bodies.\n"
      ]
    },
    {
      "cell_type": "markdown",
      "metadata": {
        "id": "LnKfCbKOVjaa"
      },
      "source": [
        "Question-21. How would you secure a Flask API ?\n",
        "\n",
        "Answer-21. Securing a Flask API involves implementing various measures to protect it from unauthorized access, data breaches, and other security threats. Here are some ways to secure a Flask API:\n",
        "\n",
        "1. Authentication and Authorization\n",
        "1. Use authentication mechanisms: Implement authentication mechanisms, such as username/password, OAuth, or JWT, to ensure that only authorized users can access the API.\n",
        "2. Use role-based access control: Implement role-based access control to restrict access to certain resources or endpoints based on user roles.\n",
        "\n",
        "2. Data Encryption\n",
        "1. Use HTTPS: Use HTTPS to encrypt data in transit and prevent eavesdropping or tampering.\n",
        "2. Encrypt sensitive data: Encrypt sensitive data, such as passwords or API keys, to protect it from unauthorized access.\n",
        "\n",
        "3. Input Validation and Sanitization\n",
        "1. Validate user input: Validate user input to prevent SQL injection or cross-site scripting (XSS) attacks.\n",
        "2. Sanitize user input: Sanitize user input to remove any malicious characters or code.\n",
        "\n",
        "4. Rate Limiting\n",
        "1. Implement rate limiting: Implement rate limiting to prevent abuse or denial-of-service (DoS) attacks.\n",
        "2. Use IP blocking: Use IP blocking to block IP addresses that are known to be malicious or have exceeded the rate limit.\n",
        "\n",
        "5. Security Headers\n",
        "1. Use security headers: Use security headers, such as Content-Security-Policy (CSP) and X-Frame-Options, to protect against XSS and clickjacking attacks.\n",
        "2. Configure security headers: Configure security headers to suit the needs of your API.\n",
        "\n",
        "6. Regular Updates and Patching\n",
        "1. Keep dependencies up-to-date: Keep dependencies, such as Flask and libraries, up-to-date to ensure that you have the latest security patches.\n",
        "2. Monitor security advisories: Monitor security advisories and patch vulnerabilities as soon as possible."
      ]
    },
    {
      "cell_type": "markdown",
      "metadata": {
        "id": "MUz76u2IVtle"
      },
      "source": [
        "Question-22. What is the significance of the Flask-RESTful extension ?\n",
        "\n",
        "Answer-22. Flask-RESTful is a popular extension for Flask that provides a simple and flexible way to build RESTful APIs. It allows you to define API resources and routes in a declarative way, making it easy to build and maintain complex APIs.\n",
        "\n",
        "Significance of Flask-RESTful:\n",
        "\n",
        "1. Simplified API Development: Flask-RESTful simplifies the process of building RESTful APIs by providing a high-level interface for defining API resources and routes.\n",
        "2. Declarative API Definition: Flask-RESTful allows you to define API resources and routes in a declarative way, making it easy to understand and maintain your API code.\n",
        "3. Built-in Support for API Features: Flask-RESTful provides built-in support for common API features, such as request parsing, response formatting, and error handling.\n",
        "4. Flexibility and Customizability: Flask-RESTful is highly flexible and customizable, allowing you to tailor it to your specific API needs."
      ]
    },
    {
      "cell_type": "markdown",
      "metadata": {
        "id": "ITVmX5VQV4Yf"
      },
      "source": [
        "Question-23. What is the role of Flask’s session object?\n",
        "\n",
        "Answer-23. Flask's session object is a way to store data across multiple requests from the same client. It allows you to store and retrieve data that is specific to a particular user's session.\n",
        "\n",
        "Role of Flask's Session Object:\n",
        "\n",
        "1. User Authentication: Store user authentication data, such as user IDs or login status, to track user sessions.\n",
        "2. Temporary Data Storage: Store temporary data that needs to be accessed across multiple requests, such as shopping cart contents.\n",
        "3. User Preferences: Store user preferences, such as language or layout settings, to personalize the user experience."
      ]
    },
    {
      "cell_type": "markdown",
      "source": [
        "////////////////////////////////////////////////////////////////////////////////////////////////////////////////////////////////"
      ],
      "metadata": {
        "id": "HRvlmAvdJeUK"
      }
    },
    {
      "cell_type": "markdown",
      "metadata": {
        "id": "IgElZSG-WBcq"
      },
      "source": [
        "# **Practical**"
      ]
    },
    {
      "cell_type": "markdown",
      "metadata": {
        "id": "DiQXaNazWFxV"
      },
      "source": [
        "Question-1. How do you create a basic Flask application ?\n",
        "\n",
        "Answer-1."
      ]
    },
    {
      "cell_type": "code",
      "execution_count": 22,
      "metadata": {
        "id": "MmswjudSWNcq",
        "colab": {
          "base_uri": "https://localhost:8080/",
          "height": 106
        },
        "outputId": "4cbb3afe-3398-4f9f-a4b9-84b0b145d8fb"
      },
      "outputs": [
        {
          "output_type": "error",
          "ename": "SyntaxError",
          "evalue": "invalid syntax (<ipython-input-22-a09e05e048ac>, line 1)",
          "traceback": [
            "\u001b[0;36m  File \u001b[0;32m\"<ipython-input-22-a09e05e048ac>\"\u001b[0;36m, line \u001b[0;32m1\u001b[0m\n\u001b[0;31m    pip install flask\u001b[0m\n\u001b[0m        ^\u001b[0m\n\u001b[0;31mSyntaxError\u001b[0m\u001b[0;31m:\u001b[0m invalid syntax\n"
          ]
        }
      ],
      "source": [
        "pip install flask\n",
        "from flask import Flask\n",
        "\n",
        "# Create the Flask application\n",
        "app = Flask(__name__)\n",
        "\n",
        "# Define a basic route\n",
        "@app.route('/')\n",
        "def home():\n",
        "    return \"Welcome to your first Flask app!\"\n",
        "\n",
        "# Run the app\n",
        "if __name__ == '__main__':\n",
        "    app.run(debug=True)\n",
        "python app.py\n"
      ]
    },
    {
      "cell_type": "markdown",
      "metadata": {
        "id": "QrPqpIJDWODU"
      },
      "source": [
        "Question-2. How do you serve static files like images or CSS in Flask ?\n",
        "\n",
        "Answer-2."
      ]
    },
    {
      "cell_type": "code",
      "execution_count": 1,
      "metadata": {
        "id": "Drt7KhCBWVaM"
      },
      "outputs": [],
      "source": [
        "from flask import Flask, render_template\n",
        "\n",
        "app = Flask(__name__)\n",
        "\n",
        "@app.route('/')\n",
        "def home():\n",
        "    return render_template('index.html')"
      ]
    },
    {
      "cell_type": "markdown",
      "metadata": {
        "id": "OVJT14Z0WV5Z"
      },
      "source": [
        "Question-3. How do you serve static files like images or CSS in Flask ?\n",
        "\n",
        "Answer-3."
      ]
    },
    {
      "cell_type": "code",
      "execution_count": 2,
      "metadata": {
        "id": "N7wywPtgWeUK"
      },
      "outputs": [],
      "source": [
        "from flask import Flask, request\n",
        "\n",
        "app = Flask(__name__)\n",
        "\n",
        "# GET method\n",
        "@app.route('/')\n",
        "def home():\n",
        "    return \"Welcome to the Home Page!\"\n",
        "\n",
        "# GET and POST methods\n",
        "@app.route('/submit', methods=['GET', 'POST'])\n",
        "def submit():\n",
        "    if request.method == 'POST':\n",
        "        name = request.form.get('name')\n",
        "        return f\"Hello, {name} (from POST)\"\n",
        "    return '''\n",
        "        <form method=\"POST\">\n",
        "            <input type=\"text\" name=\"name\" placeholder=\"Enter your name\">\n",
        "            <input type=\"submit\" value=\"Submit\">\n",
        "        </form>\n",
        "    '''\n",
        "\n",
        "# PUT method\n",
        "@app.route('/update', methods=['PUT'])\n",
        "def update():\n",
        "    return \"Data updated using PUT request\"\n",
        "\n",
        "# DELETE method\n",
        "@app.route('/delete', methods=['DELETE'])\n",
        "def delete():\n",
        "    return \"Data deleted using DELETE request\"\n"
      ]
    },
    {
      "cell_type": "markdown",
      "metadata": {
        "id": "XPWLWjKyWeuQ"
      },
      "source": [
        "Question-4. How do you render HTML templates in Flask ?\n",
        "\n",
        "Answer-4."
      ]
    },
    {
      "cell_type": "code",
      "execution_count": 3,
      "metadata": {
        "id": "yHphovufWlfG"
      },
      "outputs": [],
      "source": [
        "from flask import Flask, render_template\n",
        "\n",
        "app = Flask(__name__)\n",
        "\n",
        "@app.route('/')\n",
        "def home():\n",
        "    return render_template('index.html')"
      ]
    },
    {
      "cell_type": "markdown",
      "metadata": {
        "id": "-RWwQuqfWl21"
      },
      "source": [
        "Question-5. How can you generate URLs for routes in Flask using url_for ?\n",
        "\n",
        "Answer-5."
      ]
    },
    {
      "cell_type": "code",
      "execution_count": 4,
      "metadata": {
        "id": "7JASj8TXWr8w"
      },
      "outputs": [],
      "source": [
        "from flask import Flask, render_template, url_for, redirect\n",
        "\n",
        "app = Flask(__name__)\n",
        "\n",
        "@app.route('/')\n",
        "def home():\n",
        "    return render_template('home.html')\n",
        "\n",
        "@app.route('/about')\n",
        "def about():\n",
        "    return \"This is the About Page!\"\n",
        "\n",
        "@app.route('/go-to-about')\n",
        "def go_to_about():\n",
        "    # Redirect to 'about' route using url_for\n",
        "    return redirect(url_for('about'))"
      ]
    },
    {
      "cell_type": "markdown",
      "metadata": {
        "id": "nSNirUqvWsk_"
      },
      "source": [
        "Question-6. How do you handle forms in Flask ?\n",
        "\n",
        "Answer-6."
      ]
    },
    {
      "cell_type": "code",
      "execution_count": 5,
      "metadata": {
        "id": "q6m1tCaxWy2K"
      },
      "outputs": [],
      "source": [
        "from flask import Flask, request, render_template\n",
        "\n",
        "app = Flask(__name__)\n",
        "\n",
        "@app.route('/')\n",
        "def form():\n",
        "    return render_template('form.html')\n",
        "\n",
        "@app.route('/submit', methods=['POST'])\n",
        "def submit():\n",
        "    username = request.form.get('username')\n",
        "    return render_template('result.html', username=username)\n",
        "\n"
      ]
    },
    {
      "cell_type": "markdown",
      "metadata": {
        "id": "JfSfVGUjWzUJ"
      },
      "source": [
        "Question-7. How can you validate form data in Flask ?\n",
        "\n",
        "Answer-7."
      ]
    },
    {
      "cell_type": "code",
      "execution_count": 6,
      "metadata": {
        "id": "G6tfMj0HW7Qe"
      },
      "outputs": [],
      "source": [
        "from flask import Flask, request, render_template\n",
        "\n",
        "app = Flask(__name__)\n",
        "\n",
        "@app.route('/')\n",
        "def form():\n",
        "    return render_template('form.html')\n",
        "\n",
        "@app.route('/submit', methods=['POST'])\n",
        "def submit():\n",
        "    name = request.form.get('name')\n",
        "    email = request.form.get('email')\n",
        "\n",
        "    # Manual validation\n",
        "    if not name or not email:\n",
        "        return \"Name and email are required!\"\n",
        "    if '@' not in email:\n",
        "        return \"Invalid email format!\"\n",
        "\n",
        "    return f\"Welcome {name}, your email is {email}\""
      ]
    },
    {
      "cell_type": "markdown",
      "metadata": {
        "id": "sYdtuXiuW7ta"
      },
      "source": [
        "Question-8. How do you manage sessions in Flask ?\n",
        "\n",
        "Answer-8."
      ]
    },
    {
      "cell_type": "code",
      "execution_count": 7,
      "metadata": {
        "id": "BuNdfMOxXF7l"
      },
      "outputs": [],
      "source": [
        "from flask import Flask, render_template, request, session, redirect, url_for\n",
        "\n",
        "app = Flask(__name__)\n",
        "app.secret_key = 'your_secret_key_here'  # Required for session security\n",
        "\n",
        "@app.route('/')\n",
        "def home():\n",
        "    return render_template('login.html')\n",
        "\n",
        "@app.route('/login', methods=['POST'])\n",
        "def login():\n",
        "    username = request.form.get('username')\n",
        "\n",
        "    if username:\n",
        "        session['user'] = username  # Store data in session\n",
        "        return redirect(url_for('dashboard'))\n",
        "    return \"Username required!\"\n",
        "\n",
        "@app.route('/dashboard')\n",
        "def dashboard():\n",
        "    if 'user' in session:\n",
        "        return render_template('dashboard.html', user=session['user'])\n",
        "    return redirect(url_for('home'))\n",
        "\n",
        "@app.route('/logout')\n",
        "def logout():\n",
        "    session.pop('user', None)  # Clear session\n",
        "    return redirect(url_for('home'))"
      ]
    },
    {
      "cell_type": "markdown",
      "metadata": {
        "id": "sQzfUzdOXGuP"
      },
      "source": [
        "Question-9. How do you redirect to a different route in Flask ?\n",
        "\n",
        "Answer-9."
      ]
    },
    {
      "cell_type": "code",
      "execution_count": 8,
      "metadata": {
        "id": "eEouVSCJXL9F"
      },
      "outputs": [],
      "source": [
        "from flask import Flask, redirect, url_for\n",
        "\n",
        "app = Flask(__name__)\n",
        "\n",
        "@app.route('/')\n",
        "def home():\n",
        "    return '<h1>Home Page</h1><a href=\"/login\">Go to Login</a>'\n",
        "\n",
        "@app.route('/login')\n",
        "def login():\n",
        "    # Imagine login is successful, now redirect to dashboard\n",
        "    return redirect(url_for('dashboard'))\n",
        "\n",
        "@app.route('/dashboard')\n",
        "def dashboard():\n",
        "    return '<h1>Welcome to the Dashboard!</h1>'"
      ]
    },
    {
      "cell_type": "markdown",
      "metadata": {
        "id": "kvG5RaD-XMVZ"
      },
      "source": [
        "Question-10. How do you handle errors in Flask (e.g., 404) ?\n",
        "\n",
        "Answer-10."
      ]
    },
    {
      "cell_type": "code",
      "execution_count": 9,
      "metadata": {
        "id": "OCIeDm4XXS4W"
      },
      "outputs": [],
      "source": [
        "from flask import Flask, render_template\n",
        "\n",
        "app = Flask(__name__)\n",
        "\n",
        "@app.route('/')\n",
        "def home():\n",
        "    return 'Welcome to the Home Page!'\n",
        "\n",
        "@app.route('/cause-error')\n",
        "def cause_error():\n",
        "    # This will raise an internal error\n",
        "    return 1 / 0\n",
        "\n",
        "# Custom 404 Error Handler\n",
        "@app.errorhandler(404)\n",
        "def not_found(error):\n",
        "    return render_template('404.html'), 404\n",
        "\n",
        "# Custom 500 Error Handler\n",
        "@app.errorhandler(500)\n",
        "def server_error(error):\n",
        "    return render_template('500.html'), 500"
      ]
    },
    {
      "cell_type": "markdown",
      "metadata": {
        "id": "J18Ta0tNXTZx"
      },
      "source": [
        "Question-11. How do you structure a Flask app using Blueprints ?\n",
        "\n",
        "Answer-11."
      ]
    },
    {
      "cell_type": "code",
      "execution_count": 10,
      "metadata": {
        "id": "ACCmZLyFXav5",
        "colab": {
          "base_uri": "https://localhost:8080/",
          "height": 383
        },
        "outputId": "cc151198-9cee-4c15-80e1-fc1417f08824"
      },
      "outputs": [
        {
          "output_type": "error",
          "ename": "ModuleNotFoundError",
          "evalue": "No module named 'auth'",
          "traceback": [
            "\u001b[0;31m---------------------------------------------------------------------------\u001b[0m",
            "\u001b[0;31mModuleNotFoundError\u001b[0m                       Traceback (most recent call last)",
            "\u001b[0;32m<ipython-input-10-62fcfc903a96>\u001b[0m in \u001b[0;36m<cell line: 0>\u001b[0;34m()\u001b[0m\n\u001b[1;32m      2\u001b[0m \u001b[0;34m\u001b[0m\u001b[0m\n\u001b[1;32m      3\u001b[0m \u001b[0;31m# Import blueprints\u001b[0m\u001b[0;34m\u001b[0m\u001b[0;34m\u001b[0m\u001b[0m\n\u001b[0;32m----> 4\u001b[0;31m \u001b[0;32mfrom\u001b[0m \u001b[0mauth\u001b[0m\u001b[0;34m.\u001b[0m\u001b[0mroutes\u001b[0m \u001b[0;32mimport\u001b[0m \u001b[0mauth_bp\u001b[0m\u001b[0;34m\u001b[0m\u001b[0;34m\u001b[0m\u001b[0m\n\u001b[0m\u001b[1;32m      5\u001b[0m \u001b[0;32mfrom\u001b[0m \u001b[0mmain\u001b[0m\u001b[0;34m.\u001b[0m\u001b[0mroutes\u001b[0m \u001b[0;32mimport\u001b[0m \u001b[0mmain_bp\u001b[0m\u001b[0;34m\u001b[0m\u001b[0;34m\u001b[0m\u001b[0m\n\u001b[1;32m      6\u001b[0m \u001b[0;34m\u001b[0m\u001b[0m\n",
            "\u001b[0;31mModuleNotFoundError\u001b[0m: No module named 'auth'",
            "",
            "\u001b[0;31m---------------------------------------------------------------------------\u001b[0;32m\nNOTE: If your import is failing due to a missing package, you can\nmanually install dependencies using either !pip or !apt.\n\nTo view examples of installing some common dependencies, click the\n\"Open Examples\" button below.\n\u001b[0;31m---------------------------------------------------------------------------\u001b[0m\n"
          ],
          "errorDetails": {
            "actions": [
              {
                "action": "open_url",
                "actionText": "Open Examples",
                "url": "/notebooks/snippets/importing_libraries.ipynb"
              }
            ]
          }
        }
      ],
      "source": [
        "from flask import Flask\n",
        "\n",
        "# Import blueprints\n",
        "from auth.routes import auth_bp\n",
        "from main.routes import main_bp\n",
        "\n",
        "app = Flask(__name__)\n",
        "app.secret_key = 'your_secret_key'\n",
        "\n",
        "# Register blueprints\n",
        "app.register_blueprint(auth_bp, url_prefix='/auth')\n",
        "app.register_blueprint(main_bp)"
      ]
    },
    {
      "cell_type": "markdown",
      "metadata": {
        "id": "Sh_Nf8SqXbLI"
      },
      "source": [
        "Question-12. How do you define a custom Jinja filter in Flask ?\n",
        "\n",
        "Answer-12."
      ]
    },
    {
      "cell_type": "code",
      "execution_count": 11,
      "metadata": {
        "id": "tv6_f05UXgTc"
      },
      "outputs": [],
      "source": [
        "from flask import Flask, render_template\n",
        "\n",
        "app = Flask(__name__)\n",
        "\n",
        "# Define custom filter to reverse a string\n",
        "@app.template_filter('reverse')\n",
        "def reverse_filter(s):\n",
        "    return s[::-1]\n",
        "\n",
        "@app.route('/')\n",
        "def home():\n",
        "    return render_template('home.html', name='Sonu Kumar')"
      ]
    },
    {
      "cell_type": "markdown",
      "metadata": {
        "id": "qIhn1l9pXhIb"
      },
      "source": [
        "Question-13. How can you redirect with query parameters in Flask ?\n",
        "\n",
        "Answer-13."
      ]
    },
    {
      "cell_type": "code",
      "execution_count": 6,
      "metadata": {
        "id": "Ab9EDBz1XmB3"
      },
      "outputs": [],
      "source": [
        "from flask import Flask, redirect, url_for, request\n",
        "\n",
        "app = Flask(__name__)\n",
        "\n",
        "@app.route('/')\n",
        "def home():\n",
        "    return '<a href=\"/go\">Go with query params</a>'\n",
        "\n",
        "@app.route('/go')\n",
        "def go():\n",
        "    # Redirect to /destination with query parameters\n",
        "    return redirect(url_for('destination', name='Sonu', age=24))\n",
        "\n",
        "@app.route('/destination')\n",
        "def destination():\n",
        "    # Access query parameters\n",
        "    name = request.args.get('name')\n",
        "    age = request.args.get('age')\n",
        "    return f\"Name: {name}, Age: {age}\""
      ]
    },
    {
      "cell_type": "markdown",
      "metadata": {
        "id": "FenA-MRrXmeV"
      },
      "source": [
        "Question-14. How do you return JSON responses in Flask ?\n",
        "\n",
        "Answer-14."
      ]
    },
    {
      "cell_type": "code",
      "execution_count": 12,
      "metadata": {
        "id": "0rnWibc-Xrnk"
      },
      "outputs": [],
      "source": [
        "from flask import Flask, jsonify\n",
        "\n",
        "app = Flask(__name__)\n",
        "\n",
        "@app.route('/api/data')\n",
        "def api_data():\n",
        "    data = {\n",
        "        'name': 'Sonu Kumar',\n",
        "        'role': 'Data Analyst',\n",
        "        'skills': ['Python', 'SQL', 'Flask']\n",
        "    }\n",
        "    return jsonify(data)"
      ]
    },
    {
      "cell_type": "markdown",
      "metadata": {
        "id": "5Y57MB8BXsHB"
      },
      "source": [
        "Question-15. How do you capture URL parameters in Flask ?\n",
        "\n",
        "Answer-15."
      ]
    },
    {
      "cell_type": "code",
      "execution_count": 13,
      "metadata": {
        "id": "4mm-oJRxXzYI"
      },
      "outputs": [],
      "source": [
        "from flask import Flask\n",
        "\n",
        "app = Flask(__name__)\n",
        "\n",
        "@app.route('/user/<username>')\n",
        "def show_user(username):\n",
        "    return f\"User: {username}\""
      ]
    },
    {
      "cell_type": "markdown",
      "metadata": {
        "id": "i1xpq8ioX0De"
      },
      "source": [
        "/////////////////////////////////////////////////////////////////////////////////////////////////////////////////////////////////////"
      ]
    }
  ],
  "metadata": {
    "colab": {
      "provenance": []
    },
    "kernelspec": {
      "display_name": "Python 3",
      "name": "python3"
    },
    "language_info": {
      "name": "python"
    }
  },
  "nbformat": 4,
  "nbformat_minor": 0
}